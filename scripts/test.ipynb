{
 "cells": [
  {
   "cell_type": "code",
   "execution_count": null,
   "metadata": {},
   "outputs": [],
   "source": [
    "from utils.hole_tracker_V3 import HoleTracker\n",
    "import numpy as np\n",
    "\n",
    "Tracker = HoleTracker(\n",
    "    10, 10, 10,\n",
    "    tiebreak_method = \"KDE-N4-BW0.1\",\n",
    "    update_method   = \"AVG-N5\",\n",
    "\n",
    "    imu_hist_minlen = 4,\n",
    "    imu_hist_maxlen = 20,\n",
    "    \n",
    "    thr_ddetect= 10.0\n",
    "\n",
    "    )\n",
    "\n",
    "Tracker.do_new_imu_logic( 0, np.array([[1, 0, 0]+[0]*3]))\n",
    "Tracker.do_new_imu_logic( 1, np.array([[0, 1, 0]+[0]*3]))\n",
    "Tracker.do_new_imu_logic( 2, np.array([[0, 0, 1]+[0]*3]))\n",
    "Tracker.do_new_imu_logic( 3, np.array([[0, 1, 0]+[0]*3]))\n",
    "Tracker.do_new_imu_logic( 4, np.array([[1, 0, 1]+[0]*3]))\n",
    "\n",
    "Tracker.do_new_detection_logic(1.3, np.random.rand(5, 3))\n",
    "Tracker.do_new_detection_logic(1.9, np.random.rand(5, 3))\n",
    "Tracker.do_new_detection_logic(2.8, np.random.rand(5, 3))\n",
    "Tracker.do_new_detection_logic(3.4, np.random.rand(5, 3))\n",
    "\n",
    "# print(Tracker._flag_new_detection)\n",
    "Tracker.do_new_imu_logic( 5, np.array([[1, 0, 1]+[0]*3]))\n",
    "Tracker.do_new_imu_logic( 6, np.array([[1, 0, 1]+[0]*3]))\n",
    "\n",
    "Tracker.do_new_detection_logic(5.6, np.random.rand(5, 3))\n",
    "\n",
    "Tracker.do_new_imu_logic( 7, np.array([[1, 0, 1]+[0]*3]))\n",
    "Tracker.do_new_imu_logic( 8, np.array([[1, 0, 1]+[0]*3]))\n",
    "\n",
    "Tracker.do_new_detection_logic(7.46, np.random.rand(5, 3))\n",
    "\n",
    "Tracker.do_new_imu_logic( 9, np.array([[1, 0, 1]+[0]*3]))\n",
    "Tracker.do_new_imu_logic(10, np.array([[1, 0, 1]+[0]*3]))\n",
    "\n",
    "Tracker.do_new_detection_logic(8.99, np.random.rand(5, 3))\n",
    "\n",
    "print(\"\\n\")\n",
    "print(\"imu_data\", Tracker._imu_data)\n",
    "print(\"estimate\", Tracker._p_estimate)\n",
    "print(\"detections\",Tracker._p_detection)\n",
    "\n"
   ]
  },
  {
   "cell_type": "code",
   "execution_count": 17,
   "metadata": {},
   "outputs": [
    {
     "data": {
      "text/plain": [
       "array([0.39899971, 0.3148621 , 0.22787628, 0.01518808, 0.23634809,\n",
       "       0.5139903 ])"
      ]
     },
     "metadata": {},
     "output_type": "display_data"
    }
   ],
   "source": [
    "import numpy as np\n",
    "\n",
    "aaa = np.random.rand(3, )\n",
    "bbb = np.random.rand(3, )\n",
    "\n",
    "display(np.concatenate([aaa, bbb]))"
   ]
  }
 ],
 "metadata": {
  "kernelspec": {
   "display_name": "Python 3",
   "language": "python",
   "name": "python3"
  },
  "language_info": {
   "codemirror_mode": {
    "name": "ipython",
    "version": 3
   },
   "file_extension": ".py",
   "mimetype": "text/x-python",
   "name": "python",
   "nbconvert_exporter": "python",
   "pygments_lexer": "ipython3",
   "version": "3.8.10"
  }
 },
 "nbformat": 4,
 "nbformat_minor": 2
}
