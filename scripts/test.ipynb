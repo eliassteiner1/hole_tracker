{
 "cells": [
  {
   "cell_type": "code",
   "execution_count": 1,
   "metadata": {},
   "outputs": [
    {
     "name": "stdout",
     "output_type": "stream",
     "text": [
      "\u001b[0m[DEBUG]: initialized tracker!\u001b[0m\n",
      "\n",
      "╔════════════════════════════════════════ TRACKER SUMMARY ═════════════════════════════════════════╗\n",
      "\n",
      "[FREQ_VISIBILITY_CHECK ┄┄┄┄┄┄┄┄┄┄┄┄┄┄┄┄┄┄┄┄┄┄┄┄┄┄┄┄┄┄┄┄┄┄┄┄┄┄┄┄┄┄┄┄┄┄┄┄┄┄┄┄┄┄┄┄┄┄┄┄┄┄┄┄┄┄┄┄┄┄ 10 Hz]\n",
      "[FREQ_VISIBILITY_CHECK ┄┄┄┄┄┄┄┄┄┄┄┄┄┄┄┄┄┄┄┄┄┄┄┄┄┄┄┄┄┄┄┄┄┄┄┄┄┄┄┄┄┄┄┄┄┄┄┄┄┄┄┄┄┄┄┄┄┄┄┄┄┄┄┄┄┄┄┄┄┄ 10 Hz]\n",
      "[FREQ_VISIBILITY_CHECK ┄┄┄┄┄┄┄┄┄┄┄┄┄┄┄┄┄┄┄┄┄┄┄┄┄┄┄┄┄┄┄┄┄┄┄┄┄┄┄┄┄┄┄┄┄┄┄┄┄┄┄┄┄┄┄┄┄┄┄┄┄┄┄┄┄┄┄┄┄┄ 10 Hz]\n",
      "[LOGGING_LEVEL ┄┄┄┄┄┄┄┄┄┄┄┄┄┄┄┄┄┄┄┄┄┄┄┄┄┄┄┄┄┄┄┄┄┄┄┄┄┄┄┄┄┄┄┄┄┄┄┄┄┄┄┄┄┄┄┄┄┄┄┄┄┄┄┄┄┄┄┄┄┄┄┄┄┄┄┄┄┄ DEBUG]\n",
      "[TIEBREAK_METHOD ┄┄┄┄┄┄┄┄┄┄┄┄┄┄┄┄┄┄┄┄┄┄┄┄┄┄┄┄┄┄┄┄┄┄┄┄┄┄┄┄┄┄┄┄┄┄┄┄┄┄┄┄┄┄┄┄┄┄┄┄┄┄┄┄┄┄┄┄┄┄┄┄┄┄┄┄┄┄ KDE]\n",
      "[TIEBREAK_N ┄┄┄┄┄┄┄┄┄┄┄┄┄┄┄┄┄┄┄┄┄┄┄┄┄┄┄┄┄┄┄┄┄┄┄┄┄┄┄┄┄┄┄┄┄┄┄┄┄┄┄┄┄┄┄┄┄┄┄┄┄┄┄┄┄┄┄┄┄┄┄┄┄┄┄┄┄┄┄┄┄┄┄┄┄ 4]\n",
      "[TIEBREAK_BW ┄┄┄┄┄┄┄┄┄┄┄┄┄┄┄┄┄┄┄┄┄┄┄┄┄┄┄┄┄┄┄┄┄┄┄┄┄┄┄┄┄┄┄┄┄┄┄┄┄┄┄┄┄┄┄┄┄┄┄┄┄┄┄┄┄┄┄┄┄┄┄┄┄┄┄┄┄┄┄┄┄┄ 0.1]\n",
      "[UPDATE_METHOD ┄┄┄┄┄┄┄┄┄┄┄┄┄┄┄┄┄┄┄┄┄┄┄┄┄┄┄┄┄┄┄┄┄┄┄┄┄┄┄┄┄┄┄┄┄┄┄┄┄┄┄┄┄┄┄┄┄┄┄┄┄┄┄┄┄┄┄┄┄┄┄┄┄┄┄┄┄┄┄┄ AVG]\n",
      "[UPDATE_N ┄┄┄┄┄┄┄┄┄┄┄┄┄┄┄┄┄┄┄┄┄┄┄┄┄┄┄┄┄┄┄┄┄┄┄┄┄┄┄┄┄┄┄┄┄┄┄┄┄┄┄┄┄┄┄┄┄┄┄┄┄┄┄┄┄┄┄┄┄┄┄┄┄┄┄┄┄┄┄┄┄┄┄┄┄┄┄ 5]\n",
      "[UPDATE_BW ┄┄┄┄┄┄┄┄┄┄┄┄┄┄┄┄┄┄┄┄┄┄┄┄┄┄┄┄┄┄┄┄┄┄┄┄┄┄┄┄┄┄┄┄┄┄┄┄┄┄┄┄┄┄┄┄┄┄┄┄┄┄┄┄┄┄┄┄┄┄┄┄┄┄┄┄┄┄┄┄┄┄┄ None]\n",
      "[THR_DDETECT ┄┄┄┄┄┄┄┄┄┄┄┄┄┄┄┄┄┄┄┄┄┄┄┄┄┄┄┄┄┄┄┄┄┄┄┄┄┄┄┄┄┄┄┄┄┄┄┄┄┄┄┄┄┄┄┄┄┄┄┄┄┄┄┄┄┄┄┄┄┄┄┄┄┄┄┄┄┄┄┄ 0.1 m]\n",
      "[THR_IMUGAPS ┄┄┄┄┄┄┄┄┄┄┄┄┄┄┄┄┄┄┄┄┄┄┄┄┄┄┄┄┄┄┄┄┄┄┄┄┄┄┄┄┄┄┄┄┄┄┄┄┄┄┄┄┄┄┄┄┄┄┄┄┄┄┄┄┄┄┄┄┄┄┄┄┄┄┄┄┄┄┄┄ 0.5 s]\n",
      "[THR_INFRAME ┄┄┄┄┄┄┄┄┄┄┄┄┄┄┄┄┄┄┄┄┄┄┄┄┄┄┄┄┄┄┄┄┄┄┄┄┄┄┄┄┄┄┄┄┄┄┄┄┄┄┄┄┄┄┄┄┄┄┄┄┄┄┄┄┄┄┄┄┄┄┄┄┄┄┄┄┄┄┄┄ 2.0 s]\n",
      "[THR_OFFRAME ┄┄┄┄┄┄┄┄┄┄┄┄┄┄┄┄┄┄┄┄┄┄┄┄┄┄┄┄┄┄┄┄┄┄┄┄┄┄┄┄┄┄┄┄┄┄┄┄┄┄┄┄┄┄┄┄┄┄┄┄┄┄┄┄┄┄┄┄┄┄┄┄┄┄┄┄┄┄┄┄ 5.0 s]\n",
      "[IMU_HIST_MINLEN ┄┄┄┄┄┄┄┄┄┄┄┄┄┄┄┄┄┄┄┄┄┄┄┄┄┄┄┄┄┄┄┄┄┄┄┄┄┄┄┄┄┄┄┄┄┄┄┄┄┄┄┄┄┄┄┄┄┄┄┄┄┄┄┄┄┄┄┄┄┄┄┄┄┄┄┄┄┄┄┄ 4]\n",
      "[IMU_HIST_MAXLEN ┄┄┄┄┄┄┄┄┄┄┄┄┄┄┄┄┄┄┄┄┄┄┄┄┄┄┄┄┄┄┄┄┄┄┄┄┄┄┄┄┄┄┄┄┄┄┄┄┄┄┄┄┄┄┄┄┄┄┄┄┄┄┄┄┄┄┄┄┄┄┄┄┄┄┄┄┄┄┄ 20]\n",
      "\n",
      "┌┄┄┄┄┄┄┄┄┄┄┄┄┄┄┄┄┄┄┄┄┄┄┄┄┄┄┄┄┄┄┄┄┄┄┄┄┄┄┄┄┄┄┄┄ IMU data ┄┄┄┄┄┄┄┄┄┄┄┄┄┄┄┄┄┄┄┄┄┄┄┄┄┄┄┄┄┄┄┄┄┄┄┄┄┄┄┄┄┄┄┄┐\n",
      "+--------------+-------------+-------------+-------------+-------------+-------------+-------------+\n",
      "│      ts      │  twist[0]   │  twist[1]   │  twist[2]   │  twist[3]   │  twist[4]   │  twist[5]   │\n",
      "+--------------+-------------+-------------+-------------+-------------+-------------+-------------+\n",
      "+--------------+-------------+-------------+-------------+-------------+-------------+-------------+\n",
      "└┄┄┄┄┄┄┄┄┄┄┄┄ StructuredDeque w/ fields: [('ts', '<f8', (1,)), ('twist', '<f4', (6,))] ┄┄┄┄┄┄┄┄┄┄┄┄┘\n",
      "\n",
      "┌┄┄┄┄┄┄┄┄┄┄┄┄┄┄┄┄┄┄┄┄┄┄┄┄┄┄┄┄┄┄┄┄┄┄┄┄┄┄┄┄┄┄ p_detection ┄┄┄┄┄┄┄┄┄┄┄┄┄┄┄┄┄┄┄┄┄┄┄┄┄┄┄┄┄┄┄┄┄┄┄┄┄┄┄┄┄┄┄┐\n",
      "+--------------------------+-----------------------+-----------------------+-----------------------+\n",
      "│            ts            │         p[0]          │         p[1]          │         p[2]          │\n",
      "+--------------------------+-----------------------+-----------------------+-----------------------+\n",
      "+--------------------------+-----------------------+-----------------------+-----------------------+\n",
      "└┄┄┄┄┄┄┄┄┄┄┄┄┄┄ StructuredDeque w/ fields: [('ts', '<f8', (1,)), ('p', '<f4', (3,))] ┄┄┄┄┄┄┄┄┄┄┄┄┄┄┘\n",
      "\n",
      "┌┄┄┄┄┄┄┄┄┄┄┄┄┄┄┄┄┄┄┄┄┄┄┄┄┄┄┄┄┄┄┄┄┄┄┄┄┄┄┄┄┄┄┄ p_estimate ┄┄┄┄┄┄┄┄┄┄┄┄┄┄┄┄┄┄┄┄┄┄┄┄┄┄┄┄┄┄┄┄┄┄┄┄┄┄┄┄┄┄┄┐\n",
      "+--------------+-------------+-------------+-------------+-------------+-------------+-------------+\n",
      "│      ts      │    p[0]     │    p[1]     │    p[2]     │    vp[0]    │    vp[1]    │    vp[2]    │\n",
      "+--------------+-------------+-------------+-------------+-------------+-------------+-------------+\n",
      "+--------------+-------------+-------------+-------------+-------------+-------------+-------------+\n",
      "└┄┄┄ StructuredDeque w/ fields: [('ts', '<f8', (1,)), ('p', '<f4', (3,)), ('vp', '<f4', (3,))] ┄┄┄┄┘\n",
      "\n",
      "╚══════════════════════════════════════════════════════════════════════════════════════════════════╝\n",
      "\n",
      "something else\n"
     ]
    }
   ],
   "source": [
    "from utils.hole_tracker import HoleTracker, StructuredDeque\n",
    "import numpy as np\n",
    "\n",
    "Tracker = HoleTracker(\n",
    "    10, 10, 10,\n",
    "    \n",
    "    logging_level   = \"DEBUG\",\n",
    "    tiebreak_method = \"KDE-N4-BW0.1\",\n",
    "    update_method   = \"AVG-N5\",\n",
    "\n",
    "    thr_ddetect= 0.1,\n",
    "    thr_imugaps= 0.5,\n",
    "    thr_inframe= 2.0,\n",
    "    thr_offrame= 5.0,\n",
    "    \n",
    "    imu_hist_minlen = 4,\n",
    "    imu_hist_maxlen = 20,\n",
    "    )\n",
    "\n",
    "print(Tracker)\n",
    "print(\"something else\")\n",
    "\n"
   ]
  },
  {
   "cell_type": "code",
   "execution_count": 2,
   "metadata": {},
   "outputs": [
    {
     "name": "stdout",
     "output_type": "stream",
     "text": [
      "+----------------------+------------------+------------------+------------------+------------------+\n",
      "│         asdf         │      ghc[0]      │      ghc[1]      │      ghc[2]      │      ghc[3]      │\n",
      "+----------------------+------------------+------------------+------------------+------------------+\n",
      "│       1.000000       │     2.000000     │     3.000000     │     4.000000     │     5.000000     │\n",
      "│       1.000000       │     0.329093     │     0.937608     │     0.109258     │     0.224036     │\n",
      "│       1.000000       │     0.792421     │     0.199758     │     0.653837     │     0.667744     │\n",
      "│       1.000000       │     0.496670     │     0.409082     │     0.704205     │     0.647675     │\n",
      "│       1.000000       │     0.196779     │     0.462071     │     0.997217     │     0.699857     │\n",
      "│       1.000000       │     0.695410     │     0.421166     │     0.750853     │     0.277173     │\n",
      "+----------------------+------------------+------------------+------------------+------------------+\n",
      "└┄┄┄┄┄┄┄┄┄┄┄┄ StructuredDeque w/ fields: [('asdf', '<f4', (1,)), ('ghc', '<f4', (4,))] ┄┄┄┄┄┄┄┄┄┄┄┄┘\n"
     ]
    }
   ],
   "source": [
    "from utils.hole_tracker import HoleTracker, StructuredDeque\n",
    "import numpy as np\n",
    "\n",
    "aaa = StructuredDeque(10, datatype=[\n",
    "    (\"asdf\", np.float32, (1, )), \n",
    "    (\"ghc\", np.float32, (4, )),\n",
    "])\n",
    "aaa.append((1.0, [2, 3, 4, 5]))\n",
    "aaa.append((1.0, list(np.random.rand(4, ))))\n",
    "aaa.append((1.0, list(np.random.rand(4, ))))\n",
    "aaa.append((1.0, list(np.random.rand(4, ))))\n",
    "aaa.append((1.0, list(np.random.rand(4, ))))\n",
    "aaa.append((1.0, list(np.random.rand(4, ))))\n",
    "\n",
    "\n",
    "print(aaa)"
   ]
  },
  {
   "cell_type": "code",
   "execution_count": 3,
   "metadata": {},
   "outputs": [
    {
     "ename": "ModuleNotFoundError",
     "evalue": "No module named 'utils.hole_tracker_V3'",
     "output_type": "error",
     "traceback": [
      "\u001b[0;31m---------------------------------------------------------------------------\u001b[0m",
      "\u001b[0;31mModuleNotFoundError\u001b[0m                       Traceback (most recent call last)",
      "Cell \u001b[0;32mIn[3], line 1\u001b[0m\n\u001b[0;32m----> 1\u001b[0m \u001b[38;5;28;01mfrom\u001b[39;00m\u001b[38;5;250m \u001b[39m\u001b[38;5;21;01mutils\u001b[39;00m\u001b[38;5;21;01m.\u001b[39;00m\u001b[38;5;21;01mhole_tracker_V3\u001b[39;00m\u001b[38;5;250m \u001b[39m\u001b[38;5;28;01mimport\u001b[39;00m HoleTracker\n\u001b[1;32m      2\u001b[0m \u001b[38;5;28;01mimport\u001b[39;00m\u001b[38;5;250m \u001b[39m\u001b[38;5;21;01mnumpy\u001b[39;00m\u001b[38;5;250m \u001b[39m\u001b[38;5;28;01mas\u001b[39;00m\u001b[38;5;250m \u001b[39m\u001b[38;5;21;01mnp\u001b[39;00m\n\u001b[1;32m      4\u001b[0m Tracker \u001b[38;5;241m=\u001b[39m HoleTracker(\n\u001b[1;32m      5\u001b[0m     \u001b[38;5;241m10\u001b[39m, \u001b[38;5;241m10\u001b[39m, \u001b[38;5;241m10\u001b[39m,\n\u001b[1;32m      6\u001b[0m     tiebreak_method \u001b[38;5;241m=\u001b[39m \u001b[38;5;124m\"\u001b[39m\u001b[38;5;124mKDE-N4-BW0.1\u001b[39m\u001b[38;5;124m\"\u001b[39m,\n\u001b[0;32m   (...)\u001b[0m\n\u001b[1;32m     13\u001b[0m \n\u001b[1;32m     14\u001b[0m     )\n",
      "\u001b[0;31mModuleNotFoundError\u001b[0m: No module named 'utils.hole_tracker_V3'"
     ]
    }
   ],
   "source": [
    "from utils.hole_tracker_V3 import HoleTracker\n",
    "import numpy as np\n",
    "\n",
    "Tracker = HoleTracker(\n",
    "    10, 10, 10,\n",
    "    tiebreak_method = \"KDE-N4-BW0.1\",\n",
    "    update_method   = \"AVG-N5\",\n",
    "\n",
    "    imu_hist_minlen = 4,\n",
    "    imu_hist_maxlen = 20,\n",
    "    \n",
    "    thr_ddetect= 10.0\n",
    "\n",
    "    )\n",
    "\n",
    "Tracker.do_new_imu_logic( 0, np.array([[1, 0, 0]+[0]*3]))\n",
    "Tracker.do_new_imu_logic( 1, np.array([[0, 1, 0]+[0]*3]))\n",
    "Tracker.do_new_imu_logic( 2, np.array([[0, 0, 1]+[0]*3]))\n",
    "Tracker.do_new_imu_logic( 3, np.array([[0, 1, 0]+[0]*3]))\n",
    "Tracker.do_new_imu_logic( 4, np.array([[1, 0, 1]+[0]*3]))\n",
    "\n",
    "Tracker.do_new_detection_logic(1.3, np.random.rand(5, 3))\n",
    "Tracker.do_new_detection_logic(1.9, np.random.rand(5, 3))\n",
    "Tracker.do_new_detection_logic(2.8, np.random.rand(5, 3))\n",
    "Tracker.do_new_detection_logic(3.4, np.random.rand(5, 3))\n",
    "\n",
    "# print(Tracker._flag_new_detection)\n",
    "Tracker.do_new_imu_logic( 5, np.array([[1, 0, 1]+[0]*3]))\n",
    "Tracker.do_new_imu_logic( 6, np.array([[1, 0, 1]+[0]*3]))\n",
    "\n",
    "Tracker.do_new_detection_logic(5.6, np.random.rand(5, 3))\n",
    "\n",
    "Tracker.do_new_imu_logic( 7, np.array([[1, 0, 1]+[0]*3]))\n",
    "Tracker.do_new_imu_logic( 8, np.array([[1, 0, 1]+[0]*3]))\n",
    "\n",
    "Tracker.do_new_detection_logic(7.46, np.random.rand(5, 3))\n",
    "\n",
    "Tracker.do_new_imu_logic( 9, np.array([[1, 0, 1]+[0]*3]))\n",
    "Tracker.do_new_imu_logic(10, np.array([[1, 0, 1]+[0]*3]))\n",
    "\n",
    "Tracker.do_new_detection_logic(8.99, np.random.rand(5, 3))\n",
    "\n",
    "print(\"\\n\")\n",
    "print(\"imu_data\", Tracker._imu_data)\n",
    "print(\"estimate\", Tracker._p_estimate)\n",
    "print(\"detections\",Tracker._p_detection)\n",
    "\n"
   ]
  },
  {
   "cell_type": "code",
   "execution_count": null,
   "metadata": {},
   "outputs": [
    {
     "data": {
      "text/plain": [
       "array([0.39899971, 0.3148621 , 0.22787628, 0.01518808, 0.23634809,\n",
       "       0.5139903 ])"
      ]
     },
     "metadata": {},
     "output_type": "display_data"
    }
   ],
   "source": [
    "import numpy as np\n",
    "\n",
    "aaa = np.random.rand(3, )\n",
    "bbb = np.random.rand(3, )\n",
    "\n",
    "display(np.concatenate([aaa, bbb]))"
   ]
  }
 ],
 "metadata": {
  "kernelspec": {
   "display_name": "Python 3",
   "language": "python",
   "name": "python3"
  },
  "language_info": {
   "codemirror_mode": {
    "name": "ipython",
    "version": 3
   },
   "file_extension": ".py",
   "mimetype": "text/x-python",
   "name": "python",
   "nbconvert_exporter": "python",
   "pygments_lexer": "ipython3",
   "version": "3.8.10"
  }
 },
 "nbformat": 4,
 "nbformat_minor": 2
}
