{
 "cells": [
  {
   "cell_type": "code",
   "execution_count": 1,
   "metadata": {},
   "outputs": [
    {
     "name": "stdout",
     "output_type": "stream",
     "text": [
      "\u001b[0m[DEBUG]: initialized tracker!\u001b[0m\n",
      "\u001b[0m[DEBUG]: processing new imu: doing nothing (only adding imu to memory)\u001b[0m\n",
      "\u001b[0m[DEBUG]: processing new imu: doing nothing (only adding imu to memory)\u001b[0m\n",
      "\u001b[0m[DEBUG]: processing new imu: doing nothing (only adding imu to memory)\u001b[0m\n",
      "\u001b[0m[DEBUG]: processing new imu: doing nothing (only adding imu to memory)\u001b[0m\n",
      "\u001b[0m[DEBUG]: processing new imu: doing nothing (only adding imu to memory)\u001b[0m\n",
      "\u001b[0m[DEBUG]: tiebreaking the new detection! (might take mulitple add detects for 'kde' method)\u001b[0m\n",
      "\u001b[0m[DEBUG]: tiebreaking the new detection! (might take mulitple add detects for 'kde' method)\u001b[0m\n",
      "\u001b[0m[DEBUG]: tiebreaking the new detection! (might take mulitple add detects for 'kde' method)\u001b[0m\n",
      "\u001b[0m[DEBUG]: tiebreaking the new detection! (might take mulitple add detects for 'kde' method)\u001b[0m\n",
      "\u001b[0m[DEBUG]: using the tiebreak result as an initial detection!\u001b[0m\n",
      "True\n",
      "\u001b[0m[DEBUG]: processing new imu: initializing estimate from detection!\u001b[0m\n",
      "\n",
      "\n",
      "imu_data │       ts       │    twist[0]    │    twist[1]    │    twist[2]    │    twist[3]    │    twist[4]    │    twist[5]    │\n",
      "+----------------+----------------+----------------+----------------+----------------+----------------+----------------+\n",
      "│    0.000000    │    1.000000    │    0.000000    │    0.000000    │    0.000000    │    0.000000    │    0.000000    │\n",
      "│    1.900000    │    0.000000    │    1.000000    │    0.000000    │    0.000000    │    0.000000    │    0.000000    │\n",
      "│    2.800000    │    0.000000    │    0.000000    │    1.000000    │    0.000000    │    0.000000    │    0.000000    │\n",
      "│    3.400000    │    0.000000    │    1.000000    │    0.000000    │    0.000000    │    0.000000    │    0.000000    │\n",
      "│    4.000000    │    1.000000    │    0.000000    │    1.000000    │    0.000000    │    0.000000    │    0.000000    │\n",
      "│    5.000000    │    1.000000    │    0.000000    │    1.000000    │    0.000000    │    0.000000    │    0.000000    │\n",
      "estimate │       ts       │      p[0]      │      p[1]      │      p[2]      │     vp[0]      │     vp[1]      │     vp[2]      │\n",
      "+----------------+----------------+----------------+----------------+----------------+----------------+----------------+\n",
      "│    2.800000    │    0.209345    │   -0.310048    │    0.432067    │   -0.000000    │   -0.000000    │   -1.000000    │\n",
      "│    3.400000    │    0.209345    │   -0.310048    │   -0.167933    │   -0.000000    │   -1.000000    │    0.000000    │\n",
      "│    4.000000    │    0.209345    │   -0.910048    │   -0.167933    │   -1.000000    │   -0.000000    │   -1.000000    │\n",
      "│    5.000000    │   -0.790655    │   -0.910048    │   -1.167933    │   -1.000000    │   -0.000000    │   -1.000000    │\n",
      "detections │              ts               │            p[0]            │            p[1]            │            p[2]            │\n",
      "+-------------------------------+----------------------------+----------------------------+----------------------------+\n",
      "│           3.400000            │          0.209344          │         -0.310048          │         -0.167933          │\n"
     ]
    }
   ],
   "source": [
    "from utils.hole_tracker_V3 import HoleTracker\n",
    "import numpy as np\n",
    "\n",
    "Tracker = HoleTracker(\n",
    "    10, 10, 10,\n",
    "    tiebreak_method = \"KDE-N4-BW0.1\",\n",
    "    update_method   = \"REPLACE\",\n",
    "    \n",
    "    imu_hist_minlen = 4,\n",
    "    imu_hist_maxlen = 10,\n",
    "\n",
    "    )\n",
    "\n",
    "Tracker.do_new_imu_logic( 0, np.array([[1, 0, 0]+[0]*3]))\n",
    "Tracker.do_new_imu_logic( 1, np.array([[0, 1, 0]+[0]*3]))\n",
    "Tracker.do_new_imu_logic( 2, np.array([[0, 0, 1]+[0]*3]))\n",
    "Tracker.do_new_imu_logic( 3, np.array([[0, 1, 0]+[0]*3]))\n",
    "Tracker.do_new_imu_logic( 4, np.array([[1, 0, 1]+[0]*3]))\n",
    "\n",
    "Tracker.do_new_detection_logic(1.3, np.random.rand(5, 3))\n",
    "Tracker.do_new_detection_logic(1.9, np.random.rand(5, 3))\n",
    "Tracker.do_new_detection_logic(2.8, np.random.rand(5, 3))\n",
    "Tracker.do_new_detection_logic(3.4, np.random.rand(5, 3))\n",
    "\n",
    "print(Tracker._flag_new_detection)\n",
    "Tracker.do_new_imu_logic( 5, np.array([[1, 0, 1]+[0]*3]))\n",
    "\n",
    "print(\"\\n\")\n",
    "print(\"imu_data\", Tracker._imu_data)\n",
    "print(\"estimate\", Tracker._p_estimate)\n",
    "print(\"detections\",Tracker._p_detection)\n",
    "\n",
    "# Tracker._add_imu_data(00, [1, 0, 0]+[0]*3)\n",
    "# Tracker._add_imu_data(10, [0, 1, 0]+[0]*3)\n",
    "# Tracker._add_imu_data(20, [0, 0, 1]+[0]*3)\n",
    "# Tracker._add_imu_data(30, [0, 1, 0]+[0]*3)\n",
    "# Tracker._add_imu_data(40, [1, 0, 0]+[0]*3)\n",
    "# Tracker._add_imu_data(50, [0, 1, 0]+[0]*3)\n",
    "# Tracker._add_imu_data(60, [0, 0, 1]+[0]*3)\n",
    "\n",
    "# Tracker._add_p_detection(5, [0, 0, 0])\n",
    "# print(Tracker._p_detection)\n",
    "# Tracker._add_p_detection(24, [0, 0, 0])\n",
    "# print(Tracker._p_detection)\n",
    "# Tracker._add_p_detection(52, [0, 0, 0])\n",
    "# print(Tracker._p_detection)\n",
    "\n",
    "\n",
    "# print(Tracker._p_detection[\"p\"][1].T)"
   ]
  },
  {
   "cell_type": "code",
   "execution_count": 2,
   "metadata": {},
   "outputs": [
    {
     "name": "stdout",
     "output_type": "stream",
     "text": [
      "1\n"
     ]
    }
   ],
   "source": [
    "print( np.clip(np.searchsorted(Tracker._imu_data[\"ts\"].squeeze(), 2.1)-1, a_min=0, a_max=None) )"
   ]
  }
 ],
 "metadata": {
  "kernelspec": {
   "display_name": "masterthesis",
   "language": "python",
   "name": "python3"
  },
  "language_info": {
   "codemirror_mode": {
    "name": "ipython",
    "version": 3
   },
   "file_extension": ".py",
   "mimetype": "text/x-python",
   "name": "python",
   "nbconvert_exporter": "python",
   "pygments_lexer": "ipython3",
   "version": "3.12.8"
  }
 },
 "nbformat": 4,
 "nbformat_minor": 2
}
