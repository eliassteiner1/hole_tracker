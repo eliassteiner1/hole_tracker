{
 "cells": [
  {
   "cell_type": "code",
   "execution_count": null,
   "metadata": {},
   "outputs": [],
   "source": [
    "from utils.HoleTracker_V2 import HoleTracker\n",
    "\n",
    "\n",
    "Tracker = HoleTracker(\n",
    "    5, 5, 50,\n",
    "    HISTORY_LEN     = 20,\n",
    "    TIEBREAK_METHOD = \"kde-0.1\",\n",
    "    THRESH_DETECT   = 0.1,\n",
    "    THRESH_IMUGAPS  = 0.5,\n",
    "    THRESH_INFRAME  = 2,\n",
    "    THRESH_OFFRAME  = 5,\n",
    "    LOGGING_LEVEL   = \"INFO\"\n",
    ")\n",
    "\n",
    "print(Tracker)\n"
   ]
  },
  {
   "cell_type": "code",
   "execution_count": null,
   "metadata": {},
   "outputs": [],
   "source": [
    "method = \"kde-0.1\"\n",
    "bw = method.split(\"-\")[1]\n",
    "print(float(bw))\n",
    "\n",
    "\n"
   ]
  }
 ],
 "metadata": {
  "kernelspec": {
   "display_name": "Python 3",
   "language": "python",
   "name": "python3"
  },
  "language_info": {
   "codemirror_mode": {
    "name": "ipython",
    "version": 3
   },
   "file_extension": ".py",
   "mimetype": "text/x-python",
   "name": "python",
   "nbconvert_exporter": "python",
   "pygments_lexer": "ipython3",
   "version": "3.8.10"
  }
 },
 "nbformat": 4,
 "nbformat_minor": 2
}
